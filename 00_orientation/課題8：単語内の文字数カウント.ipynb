{
 "cells": [
  {
   "cell_type": "code",
   "execution_count": 21,
   "id": "5ce54132",
   "metadata": {},
   "outputs": [
    {
     "name": "stdout",
     "output_type": "stream",
     "text": [
      "入力した英単語： ['bear', 'cat', 'dog', 'giraffe', 'horse', 'kangaroo']\n",
      "aが5個ありました。\n",
      "bが1個ありました。\n",
      "cが1個ありました。\n",
      "dが1個ありました。\n",
      "eが3個ありました。\n",
      "fが2個ありました。\n",
      "gが3個ありました。\n",
      "hが1個ありました。\n",
      "iが1個ありました。\n",
      "kが1個ありました。\n",
      "nが1個ありました。\n",
      "oが4個ありました。\n",
      "rが4個ありました。\n",
      "sが1個ありました。\n",
      "tが1個ありました。\n"
     ]
    }
   ],
   "source": [
    "word_list = []\n",
    "char_count = dict.fromkeys(list(\"abcdefghijklmnopqrstuvwxyz\"), 0)\n",
    "\n",
    "\n",
    "while True:\n",
    "    word = input(\"英単語を入力してください。\")\n",
    "    word_list.append(word)\n",
    "    char_count[\"a\"] += word.count(\"a\")\n",
    "    char_count[\"b\"] += word.count(\"b\")\n",
    "    char_count[\"c\"] += word.count(\"c\")\n",
    "    char_count[\"d\"] += word.count(\"d\")\n",
    "    char_count[\"e\"] += word.count(\"e\")\n",
    "    char_count[\"f\"] += word.count(\"f\")\n",
    "    char_count[\"g\"] += word.count(\"g\")\n",
    "    char_count[\"h\"] += word.count(\"h\")\n",
    "    char_count[\"i\"] += word.count(\"i\")\n",
    "    char_count[\"j\"] += word.count(\"j\")\n",
    "    char_count[\"k\"] += word.count(\"k\")\n",
    "    char_count[\"l\"] += word.count(\"l\")\n",
    "    char_count[\"m\"] += word.count(\"m\")\n",
    "    char_count[\"n\"] += word.count(\"n\")\n",
    "    char_count[\"o\"] += word.count(\"o\")\n",
    "    char_count[\"p\"] += word.count(\"p\")\n",
    "    char_count[\"q\"] += word.count(\"q\")\n",
    "    char_count[\"r\"] += word.count(\"r\")\n",
    "    char_count[\"s\"] += word.count(\"s\")\n",
    "    char_count[\"t\"] += word.count(\"t\")\n",
    "    char_count[\"u\"] += word.count(\"u\")\n",
    "    char_count[\"v\"] += word.count(\"v\")\n",
    "    char_count[\"w\"] += word.count(\"w\")\n",
    "    char_count[\"x\"] += word.count(\"x\")\n",
    "    char_count[\"y\"] += word.count(\"y\")\n",
    "    char_count[\"z\"] += word.count(\"z\")\n",
    "\n",
    "    if word == \"\":\n",
    "        break\n",
    "\n",
    "word_list.pop()\n",
    "word_list.sort()\n",
    "print(\"入力した英単語：\", word_list)\n",
    "\n",
    "for key, value in char_count.items():\n",
    "    if value ==0:\n",
    "        continue\n",
    "    print(f\"{key}が{value}個ありました。\")\n"
   ]
  }
 ],
 "metadata": {
  "kernelspec": {
   "display_name": ".venv",
   "language": "python",
   "name": "python3"
  },
  "language_info": {
   "codemirror_mode": {
    "name": "ipython",
    "version": 3
   },
   "file_extension": ".py",
   "mimetype": "text/x-python",
   "name": "python",
   "nbconvert_exporter": "python",
   "pygments_lexer": "ipython3",
   "version": "3.12.10"
  }
 },
 "nbformat": 4,
 "nbformat_minor": 5
}
