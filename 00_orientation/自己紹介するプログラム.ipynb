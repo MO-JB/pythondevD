{
 "cells": [
  {
   "cell_type": "code",
   "execution_count": 3,
   "id": "a6926833",
   "metadata": {},
   "outputs": [
    {
     "name": "stdout",
     "output_type": "stream",
     "text": [
      "私の名前は tanaka です。来年 26 歳になります。\n"
     ]
    }
   ],
   "source": [
    "name=input(\"名前を入力してください。：\")\n",
    "age=input(\"現在の年齢を入力してください。：\")\n",
    "age=int(age)+1\n",
    "print(\"私の名前は\",name,\"です。来年\",age,\"歳になります。\")\n"
   ]
  },
  {
   "cell_type": "code",
   "execution_count": null,
   "id": "73130060",
   "metadata": {},
   "outputs": [],
   "source": []
  }
 ],
 "metadata": {
  "kernelspec": {
   "display_name": ".venv",
   "language": "python",
   "name": "python3"
  },
  "language_info": {
   "codemirror_mode": {
    "name": "ipython",
    "version": 3
   },
   "file_extension": ".py",
   "mimetype": "text/x-python",
   "name": "python",
   "nbconvert_exporter": "python",
   "pygments_lexer": "ipython3",
   "version": "3.12.10"
  }
 },
 "nbformat": 4,
 "nbformat_minor": 5
}
