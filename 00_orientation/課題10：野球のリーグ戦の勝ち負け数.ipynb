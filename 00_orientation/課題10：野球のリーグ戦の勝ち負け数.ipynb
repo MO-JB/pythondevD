{
 "cells": [
  {
   "cell_type": "code",
   "execution_count": null,
   "id": "9b090fb5",
   "metadata": {},
   "outputs": [
    {
     "name": "stdout",
     "output_type": "stream",
     "text": [
      "Archers 77 64 2 0.546\n",
      "team win lose draw rate\n",
      "Archers 77 64 2 0.546\n",
      "Meteors 71 69 3 0.507\n",
      "Cheetahs 69 68 6 0.504\n",
      "Sharks 70 70 3 0.500\n",
      "Pythons 68 73 2 0.482\n",
      "Owls 59 82 2 0.418\n"
     ]
    }
   ],
   "source": [
    "# 最初のセルに Baseball_Team という名前のクラスを作ってください：\n",
    "class Baseball_Team:\n",
    "    name = \"Archers\"\n",
    "    win = 77\n",
    "    lose = 64\n",
    "    draw = 2\n",
    "    win_rate =0\n",
    "\n",
    "    def calc_win_rate(self):\n",
    "        win_rate = self.win / (self.win+self.lose)\n",
    "        return win_rate\n",
    "\n",
    "    \n",
    "    def show_team_result(self):\n",
    "        win_rate = self.calc_win_rate()\n",
    "        print(f\"{self.name} {self.win} {self.lose} {self.draw} {win_rate:.3f}\")\n",
    "\n",
    "result = Baseball_Team()\n",
    "result.show_team_result()\n",
    "\n",
    "##### 次のセルで Baseball_Team のインスタンスを6個チーム分、生成してください：\n",
    "\n",
    "class Baseball_Team2:\n",
    "    def __init__(self, name, win, lose, draw):\n",
    "        self.name = name\n",
    "        self.win = win\n",
    "        self.lose =lose\n",
    "        self.draw = draw        \n",
    "    \n",
    "    def calc_win_rate(self):\n",
    "        win_rate = self.win / (self.win+self.lose)\n",
    "        return win_rate\n",
    "    \n",
    "    def show_team_result(self):\n",
    "        win_rate = self.calc_win_rate()\n",
    "        print(f\"{self.name} {self.win} {self.lose} {self.draw} {win_rate:.3f}\")#\n",
    "\n",
    "# 次のセルで Baseball_Team のインスタンスを6個チーム分、生成してください：\n",
    "archers = Baseball_Team2(\"Archers\", 77, 64, 2)\n",
    "meteors = Baseball_Team2(\"Meteors\", 71, 69, 3)\n",
    "cheetahs = Baseball_Team2(\"Cheetahs\", 69, 68, 6)\n",
    "sharks = Baseball_Team2(\"Sharks\", 70, 70, 3)\n",
    "pythons = Baseball_Team2(\"Pythons\", 68, 73, 2)\n",
    "owls = Baseball_Team2(\"Owls\", 59, 82, 2)\n",
    "\n",
    "# 各インスタンスの show_team_result() メソッドを呼び出して、勝敗情報を表示してください：\n",
    "\n",
    "print(\"team win lose draw rate\")\n",
    "archers.show_team_result()\n",
    "meteors.show_team_result()\n",
    "cheetahs.show_team_result()\n",
    "sharks.show_team_result()\n",
    "pythons.show_team_result()\n",
    "owls.show_team_result()\n"
   ]
  }
 ],
 "metadata": {
  "kernelspec": {
   "display_name": ".venv",
   "language": "python",
   "name": "python3"
  },
  "language_info": {
   "codemirror_mode": {
    "name": "ipython",
    "version": 3
   },
   "file_extension": ".py",
   "mimetype": "text/x-python",
   "name": "python",
   "nbconvert_exporter": "python",
   "pygments_lexer": "ipython3",
   "version": "3.12.10"
  }
 },
 "nbformat": 4,
 "nbformat_minor": 5
}
