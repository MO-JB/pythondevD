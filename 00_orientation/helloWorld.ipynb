{
 "cells": [
  {
   "cell_type": "code",
   "execution_count": 1,
   "id": "3540ebc3",
   "metadata": {},
   "outputs": [
    {
     "name": "stdout",
     "output_type": "stream",
     "text": [
      "Hello! World!\n"
     ]
    }
   ],
   "source": [
    "print(\"Hello! World!\")\n"
   ]
  },
  {
   "cell_type": "markdown",
   "id": "191a66e7",
   "metadata": {},
   "source": [
    "#イントロ"
   ]
  },
  {
   "cell_type": "markdown",
   "id": "ec99dfd0",
   "metadata": {},
   "source": [
    "##VSコードの基本"
   ]
  },
  {
   "cell_type": "markdown",
   "id": "e099330a",
   "metadata": {},
   "source": []
  },
  {
   "cell_type": "code",
   "execution_count": 3,
   "id": "3657d757",
   "metadata": {},
   "outputs": [
    {
     "name": "stdout",
     "output_type": "stream",
     "text": [
      "Hello! World!\n",
      "こんにちは！ 世界！\n"
     ]
    }
   ],
   "source": [
    "print(\"Hello! World!\")\n",
    "print(\"こんにちは！ 世界！\")\n"
   ]
  }
 ],
 "metadata": {
  "kernelspec": {
   "display_name": ".venv",
   "language": "python",
   "name": "python3"
  },
  "language_info": {
   "codemirror_mode": {
    "name": "ipython",
    "version": 3
   },
   "file_extension": ".py",
   "mimetype": "text/x-python",
   "name": "python",
   "nbconvert_exporter": "python",
   "pygments_lexer": "ipython3",
   "version": "3.12.10"
  }
 },
 "nbformat": 4,
 "nbformat_minor": 5
}
