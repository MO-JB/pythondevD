{
 "cells": [
  {
   "cell_type": "code",
   "execution_count": 1,
   "id": "309e8c0f",
   "metadata": {},
   "outputs": [
    {
     "name": "stdout",
     "output_type": "stream",
     "text": [
      "10人のテストの平均点は66.7です。\n"
     ]
    }
   ],
   "source": [
    "total_number = 0\n",
    "total_score = 0\n",
    "\n",
    "while True:\n",
    "    score = int(input(\"点数を入力してください。-1を入力するとストップします：\"))\n",
    "\n",
    "    if score == -1:\n",
    "        break\n",
    "\n",
    "    total_number = total_number + 1\n",
    "    total_score = total_score + score\n",
    "\n",
    "average = round(total_score/total_number,1)\n",
    "\n",
    "print(f\"{total_number}人のテストの平均点は{average}です。\")\n"
   ]
  }
 ],
 "metadata": {
  "kernelspec": {
   "display_name": ".venv",
   "language": "python",
   "name": "python3"
  },
  "language_info": {
   "codemirror_mode": {
    "name": "ipython",
    "version": 3
   },
   "file_extension": ".py",
   "mimetype": "text/x-python",
   "name": "python",
   "nbconvert_exporter": "python",
   "pygments_lexer": "ipython3",
   "version": "3.12.10"
  }
 },
 "nbformat": 4,
 "nbformat_minor": 5
}
