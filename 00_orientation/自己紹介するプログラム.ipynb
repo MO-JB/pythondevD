{
 "cells": [
  {
   "cell_type": "code",
   "execution_count": null,
   "id": "a6926833",
   "metadata": {},
   "outputs": [],
   "source": [
    "name=input(\"名前を入力してください。：\")\n",
    "age=input(\"現在の年齢を入力してください。：\")\n",
    "age=int(age)+1\n",
    "print(\"私の名前は\",name,\"です。来年\",age,\"歳になります。\")\n"
   ]
  },
  {
   "cell_type": "code",
   "execution_count": null,
   "id": "73130060",
   "metadata": {},
   "outputs": [],
   "source": []
  }
 ],
 "metadata": {
  "kernelspec": {
   "display_name": ".venv",
   "language": "python",
   "name": "python3"
  },
  "language_info": {
   "codemirror_mode": {
    "name": "ipython",
    "version": 3
   },
   "file_extension": ".py",
   "mimetype": "text/x-python",
   "name": "python",
   "nbconvert_exporter": "python",
   "pygments_lexer": "ipython3",
   "version": "3.12.10"
  }
 },
 "nbformat": 4,
 "nbformat_minor": 5
}
